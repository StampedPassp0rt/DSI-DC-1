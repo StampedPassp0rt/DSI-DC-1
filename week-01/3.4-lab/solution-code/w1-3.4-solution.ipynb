{
 "cells": [
  {
   "cell_type": "code",
   "execution_count": 2,
   "metadata": {
    "collapsed": true
   },
   "outputs": [],
   "source": [
    "import numpy"
   ]
  },
  {
   "cell_type": "code",
   "execution_count": 3,
   "metadata": {
    "collapsed": false
   },
   "outputs": [
    {
     "name": "stdout",
     "output_type": "stream",
     "text": [
      "Numpy array: \n",
      "[2 3 1 0]\n",
      "\n"
     ]
    }
   ],
   "source": [
    "# Create an array using numpy\n",
    "\n",
    "print 'Numpy array: '\n",
    "x = numpy.array([2, 3, 1, 0]) \n",
    "print x\n",
    "print ''"
   ]
  },
  {
   "cell_type": "code",
   "execution_count": 4,
   "metadata": {
    "collapsed": false
   },
   "outputs": [
    {
     "name": "stdout",
     "output_type": "stream",
     "text": [
      "Mean of array is\n",
      "1.5\n",
      "\n"
     ]
    }
   ],
   "source": [
    "# What is the mean of the array?\n",
    "\n",
    "print'The mean of the array is:'\n",
    "print numpy.mean(x) #get mean of array\n",
    "print ''"
   ]
  },
  {
   "cell_type": "code",
   "execution_count": 5,
   "metadata": {
    "collapsed": false
   },
   "outputs": [
    {
     "name": "stdout",
     "output_type": "stream",
     "text": [
      "The sum of the array is: \n",
      "6\n",
      "\n"
     ]
    }
   ],
   "source": [
    "# What is the sum of the array?\n",
    "\n",
    "print 'The sum of the array is: '\n",
    "print numpy.sum(x) #get sum\n",
    "print ''"
   ]
  },
  {
   "cell_type": "code",
   "execution_count": 6,
   "metadata": {
    "collapsed": false
   },
   "outputs": [
    {
     "name": "stdout",
     "output_type": "stream",
     "text": [
      "The non zero numbers in array are: \n",
      "3\n",
      "\n"
     ]
    }
   ],
   "source": [
    "# What is the non zero count of the array?\n",
    "\n",
    "print 'The non zero numbers in array are: '\n",
    "print numpy.count_nonzero(x) #count of non zero\n",
    "print ''"
   ]
  },
  {
   "cell_type": "code",
   "execution_count": 7,
   "metadata": {
    "collapsed": false
   },
   "outputs": [
    {
     "name": "stdout",
     "output_type": "stream",
     "text": [
      "The standard deviation of the array is: \n",
      "1.11803398875\n",
      "\n"
     ]
    }
   ],
   "source": [
    "# What is the standard deviation of the array?\n",
    "\n",
    "print 'The standard deviation of the array is: '\n",
    "print numpy.std(x) #get standard deviation\n",
    "print ''"
   ]
  },
  {
   "cell_type": "code",
   "execution_count": 8,
   "metadata": {
    "collapsed": false
   },
   "outputs": [
    {
     "name": "stdout",
     "output_type": "stream",
     "text": [
      "The array after the replacements is: \n",
      "[2 3 5 7]\n"
     ]
    }
   ],
   "source": [
    "# Replace a value in the array\n",
    "\n",
    "x[2]=5\n",
    "x[3]=7\n",
    "print 'The array after the replacements is: '\n",
    "print x"
   ]
  }
 ],
 "metadata": {
  "kernelspec": {
   "display_name": "Python 2",
   "language": "python",
   "name": "python2"
  },
  "language_info": {
   "codemirror_mode": {
    "name": "ipython",
    "version": 2
   },
   "file_extension": ".py",
   "mimetype": "text/x-python",
   "name": "python",
   "nbconvert_exporter": "python",
   "pygments_lexer": "ipython2",
   "version": "2.7.10"
  }
 },
 "nbformat": 4,
 "nbformat_minor": 0
}
