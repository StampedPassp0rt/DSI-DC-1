{
 "cells": [
  {
   "cell_type": "code",
   "execution_count": 3,
   "metadata": {
    "collapsed": false
   },
   "outputs": [],
   "source": [
    "import numpy "
   ]
  },
  {
   "cell_type": "code",
   "execution_count": 6,
   "metadata": {
    "collapsed": false
   },
   "outputs": [
    {
     "name": "stdout",
     "output_type": "stream",
     "text": [
      "First 50 multiples of 9 are: \n",
      "[9, 18, 27, 36, 45, 54, 63, 72, 81, 90, 99, 108, 117, 126, 135, 144, 153, 162, 171, 180, 189, 198, 207, 216, 225, 234, 243, 252, 261, 270, 279, 288, 297, 306, 315, 324, 333, 342, 351, 360, 369, 378, 387, 396, 405, 414, 423, 432, 441, 450]\n",
      "\n"
     ]
    }
   ],
   "source": [
    "# Write a function that takes a number and generates the a \n",
    "# list of the first 50 multiples of that number.\n",
    "\n",
    "def numMultiples(num): \n",
    "    out_list=[] #the list containing num\n",
    "    for i in range(1,51):\n",
    "        out_list.append(i*num) #append the multiples\n",
    "    return out_list\n",
    "\n",
    "# Can change the number from 9 to any number\n",
    "print 'First 50 multiples of 9 are: '\n",
    "\n",
    "mult=numMultiples(9) #call a function to find multiples of 9 \n",
    "print mult\n",
    "print ''"
   ]
  },
  {
   "cell_type": "code",
   "execution_count": 7,
   "metadata": {
    "collapsed": false
   },
   "outputs": [
    {
     "name": "stdout",
     "output_type": "stream",
     "text": [
      "The sum of the first thousand odd numbers is: \n",
      "1000000\n",
      "\n"
     ]
    }
   ],
   "source": [
    "# Compute the sum of the first 10,000 odd numbers.\n",
    "\n",
    "def sumOfFirstThousandOdd(): \n",
    "    sum_tot=0;\n",
    "    start=1 \n",
    "    for i in range(0,1000):\n",
    "        sum_tot=sum_tot+start #add odd numbers 1,3,5,..........\n",
    "        start=start+2;\n",
    "    return sum_tot\n",
    "\n",
    "print 'The sum of the first thousand odd numbers is: '\n",
    "sum_ans=sumOfFirstThousandOdd()\n",
    "print sum_ans\n",
    "print ''"
   ]
  }
 ],
 "metadata": {
  "kernelspec": {
   "display_name": "Python 2",
   "language": "python",
   "name": "python2"
  },
  "language_info": {
   "codemirror_mode": {
    "name": "ipython",
    "version": 2
   },
   "file_extension": ".py",
   "mimetype": "text/x-python",
   "name": "python",
   "nbconvert_exporter": "python",
   "pygments_lexer": "ipython2",
   "version": "2.7.10"
  }
 },
 "nbformat": 4,
 "nbformat_minor": 0
}
