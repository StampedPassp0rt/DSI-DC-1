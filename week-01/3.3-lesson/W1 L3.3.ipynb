{
 "cells": [
  {
   "cell_type": "code",
   "execution_count": 10,
   "metadata": {
    "collapsed": true
   },
   "outputs": [],
   "source": [
    "import numpy as np\n",
    "from numpy import mean, median\n",
    "from scipy.stats import mode"
   ]
  },
  {
   "cell_type": "code",
   "execution_count": 11,
   "metadata": {
    "collapsed": false
   },
   "outputs": [
    {
     "data": {
      "text/plain": [
       "[3, 75, 98, 2, 10, 3, 14, 99, 44, 25, 31, 100, 356, 4, 23, 55, 327, 64, 6, 20]"
      ]
     },
     "execution_count": 11,
     "metadata": {},
     "output_type": "execute_result"
    }
   ],
   "source": [
    "# create a list of at least 20 numbers\n",
    "\n",
    "n = [3, 75, 98, 2, 10, 3, 14, 99, 44, 25, 31, 100, 356, 4, 23, 55, 327, 64, 6, 20]\n",
    "n"
   ]
  },
  {
   "cell_type": "code",
   "execution_count": 12,
   "metadata": {
    "collapsed": false
   },
   "outputs": [
    {
     "data": {
      "text/plain": [
       "67.950000000000003"
      ]
     },
     "execution_count": 12,
     "metadata": {},
     "output_type": "execute_result"
    }
   ],
   "source": [
    "np.mean(list)"
   ]
  },
  {
   "cell_type": "code",
   "execution_count": 13,
   "metadata": {
    "collapsed": false
   },
   "outputs": [
    {
     "data": {
      "text/plain": [
       "28.0"
      ]
     },
     "execution_count": 13,
     "metadata": {},
     "output_type": "execute_result"
    }
   ],
   "source": [
    "np.median(list)"
   ]
  },
  {
   "cell_type": "code",
   "execution_count": 15,
   "metadata": {
    "collapsed": false
   },
   "outputs": [
    {
     "name": "stdout",
     "output_type": "stream",
     "text": [
      "ModeResult(mode=array([3]), count=array([2]))\n"
     ]
    }
   ],
   "source": [
    "print(mode(n))"
   ]
  },
  {
   "cell_type": "code",
   "execution_count": 17,
   "metadata": {
    "collapsed": false
   },
   "outputs": [
    {
     "data": {
      "text/plain": [
       "354"
      ]
     },
     "execution_count": 17,
     "metadata": {},
     "output_type": "execute_result"
    }
   ],
   "source": [
    "# range\n",
    "\n",
    "n_range = np.ptp(n)\n",
    "n_range"
   ]
  },
  {
   "cell_type": "code",
   "execution_count": 21,
   "metadata": {
    "collapsed": false
   },
   "outputs": [
    {
     "data": {
      "text/plain": [
       "9414.6475000000028"
      ]
     },
     "execution_count": 21,
     "metadata": {},
     "output_type": "execute_result"
    }
   ],
   "source": [
    "# variance\n",
    "\n",
    "n_variance = np.var(n)\n",
    "n_variance"
   ]
  },
  {
   "cell_type": "code",
   "execution_count": 23,
   "metadata": {
    "collapsed": false
   },
   "outputs": [
    {
     "data": {
      "text/plain": [
       "97.02910645780473"
      ]
     },
     "execution_count": 23,
     "metadata": {},
     "output_type": "execute_result"
    }
   ],
   "source": [
    "# standard deviation\n",
    "\n",
    "std = np.std(n)\n",
    "std"
   ]
  },
  {
   "cell_type": "code",
   "execution_count": 24,
   "metadata": {
    "collapsed": true
   },
   "outputs": [],
   "source": [
    "# independent practice data set\n",
    "\n",
    "dist = [33.3, 8.0, 2.7, 7.0, 11.3, 10.2, 38.4, 14.7, 46.9, 6.6, 38.6, 41.1, 20.4, 19.5,\n",
    "        102.6, 111.5, 21.8, 27.0, 30.3, 9.3, 19.6, 31.1, 48.8, 8.9, 11.4, 0.6, 23.5,\n",
    "        8.0, 27.5, 69.7, 11.5, 15.5, 1.4, 7.0, 4.6, 6.0, 16.0, 17.2, 6.3, 26.2, 23.9,\n",
    "        45.9, 55.4, 100.8, 22.9, 75.5, 115.5, 58.9, 10.5, 92.6, 12.4, 102.7, 10.2, 167.6,\n",
    "        143.6, 132.3, 134.2, 39.4, 49.7, 12.0, 27.0, 1.3, 4.7, 5.0, 24.1, 21.5, 33.1,\n",
    "        45.6, 46.3, 15.8, 30.7, 15.7, 6.8, 64.6, 39.1, 2.9, 8.0, 5.4, 33.4, 40.0, 22.7,\n",
    "        24.2, 25.7, 85.0, 26.2, 3.3, 20.7, 117.4, 66.8, 44.3, 37.9, 71.8, 161.4, 45.9,\n",
    "        4.6, 6.6, 12.6, 24.4, 21.4, 33.6, 33.7, 18.8, 7.6, 36.3, 1.8, 83.2, 75.1, 71.3,\n",
    "        32.9, 30.6, 16.0, 6.9, 11.0, 9.4, 11.7, 13.8, 39.4, 4.3, 38.1, 60.1, 78.2, 49.6,\n",
    "        14.3, 8.0, 19.3, 30.8, 32.5, 29.6, 28.3, 32.4, 35.7, 36.7, 10.0, 8.5, 12.2, 22.6,\n",
    "        32.1, 25.7, 14.1, 20.9, 23.8, 29.5, 2.9, 42.3, 19.9, 47.5, 15.9, 6.0, 19.3, 38.2,\n",
    "        23.5, 2.7, 27.0, 49.9, 43.5, 31.7, 39.1, 15.1, 18.0, 33.8, 32.1, 50.7, 28.8, 11.6,\n",
    "        74.8, 16.2, 8.3, 36.3, 44.0, 15.6, 48.9, 7.3, 8.2, 29.8, 38.7, 3.9, 7.2, 5.1, 23.7,\n",
    "        48.4, 92.0, 64.3, 97.4, 99.1, 18.0, 7.1, 14.7, 47.1, 41.3, 44.2, 6.5, 44.4, 9.7,\n",
    "        15.5, 23.7, 34.5, 19.9, 58.6, 35.0, 66.1, 74.5, 45.2]"
   ]
  },
  {
   "cell_type": "code",
   "execution_count": null,
   "metadata": {
    "collapsed": true
   },
   "outputs": [],
   "source": []
  }
 ],
 "metadata": {
  "kernelspec": {
   "display_name": "Python 2",
   "language": "python",
   "name": "python2"
  },
  "language_info": {
   "codemirror_mode": {
    "name": "ipython",
    "version": 2
   },
   "file_extension": ".py",
   "mimetype": "text/x-python",
   "name": "python",
   "nbconvert_exporter": "python",
   "pygments_lexer": "ipython2",
   "version": "2.7.11"
  }
 },
 "nbformat": 4,
 "nbformat_minor": 0
}
